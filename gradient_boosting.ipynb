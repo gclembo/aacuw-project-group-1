{
 "cells": [
  {
   "cell_type": "code",
   "execution_count": 1,
   "id": "28118304-9330-4382-baa0-45d410079912",
   "metadata": {},
   "outputs": [],
   "source": [
    "import numpy as np\n",
    "import pandas as pd\n",
    "from sklearn.model_selection import train_test_split, GridSearchCV\n",
    "from sklearn.ensemble import GradientBoostingRegressor\n",
    "from sklearn.metrics import mean_absolute_error\n",
    "import matplotlib.pyplot as plt\n",
    "import seaborn as sns"
   ]
  },
  {
   "cell_type": "code",
   "execution_count": 2,
   "id": "9cc95975-6a75-4fb8-8210-e09dd2dead04",
   "metadata": {},
   "outputs": [],
   "source": [
    "\n",
    "# Load the dataset\n",
    "date_cols = [2, 19, 20, 26, 29, 30]\n",
    "injuries = pd.read_csv('data/injuries_cleaned.csv', parse_dates=date_cols)\n"
   ]
  },
  {
   "cell_type": "code",
   "execution_count": 3,
   "id": "a013a079-4af6-43f4-a039-1427efbb8cf8",
   "metadata": {},
   "outputs": [],
   "source": [
    "# Define features and target\n",
    "bool_variables = ['surgery', 'sprain', 'broken', 'bruise', 'strain']\n",
    "cat_features = ['GroupPosition', 'main_body_part']\n",
    "numeric_features = ['Height', 'Weight', 'age_at_injury']\n",
    "features = bool_variables + cat_features + numeric_features\n",
    "\n",
    "X = injuries[features]\n",
    "y = injuries['log_days_injured']"
   ]
  },
  {
   "cell_type": "code",
   "execution_count": 4,
   "id": "182cb8c9-a804-4e50-8455-470fb115befc",
   "metadata": {},
   "outputs": [],
   "source": [
    "X_dummies = pd.get_dummies(X)\n",
    "\n",
    "# Split the data\n",
    "X_train, X_test, y_train, y_test = train_test_split(X_dummies, y, random_state=123)\n",
    "\n",
    "# Define hyperparameters for Gradient Boosting\n",
    "n_estimators = [100, 150, 200, 250, 300]\n",
    "learning_rate = [0.01, 0.05, 0.1]\n",
    "max_depth = [3, 5, 7, 9]"
   ]
  },
  {
   "cell_type": "code",
   "execution_count": null,
   "id": "0714e05e-787b-438a-b62e-a8d8b1ec332e",
   "metadata": {},
   "outputs": [],
   "source": [
    "grid = GridSearchCV(GradientBoostingRegressor(), \n",
    "                    {'n_estimators': n_estimators, 'learning_rate': learning_rate, 'max_depth': max_depth}, \n",
    "                    scoring='neg_mean_absolute_error', cv=5)\n",
    "grid.fit(X_train, y_train)\n"
   ]
  },
  {
   "cell_type": "code",
   "execution_count": null,
   "id": "242bbcb2-3e01-4145-864e-bfa292bd9207",
   "metadata": {},
   "outputs": [],
   "source": [
    "boosting_model = grid.best_estimator_\n",
    "boosting_model.fit(X_train, y_train)"
   ]
  },
  {
   "cell_type": "code",
   "execution_count": null,
   "id": "9c08b8f3-f0cd-4b31-95d3-43f00b2d71aa",
   "metadata": {},
   "outputs": [],
   "source": [
    "importances = boosting_model.feature_importances_\n",
    "importance_df = pd.DataFrame({'feature': X_dummies.columns, 'importance': importances})"
   ]
  },
  {
   "cell_type": "code",
   "execution_count": null,
   "id": "1493f29f-dbc3-4cf8-ac1b-ac377177975f",
   "metadata": {
    "scrolled": true
   },
   "outputs": [],
   "source": [
    "# Plot feature importance\n",
    "order = importance_df.sort_values(by='importance', ascending=False)['feature']\n",
    "plt.figure(figsize=(5, 10))\n",
    "sns.barplot(x=importance_df['importance'], y=importance_df['feature'], order=order)\n",
    "plt.title('Feature Importance')\n",
    "plt.show()"
   ]
  },
  {
   "cell_type": "code",
   "execution_count": null,
   "id": "1e1b438d-6099-4cab-a396-dff4b9f49e91",
   "metadata": {},
   "outputs": [],
   "source": [
    "# Predictions and evaluation\n",
    "boosting_pred = boosting_model.predict(X_test)\n",
    "print('Gradient Boosting MAE:', mean_absolute_error(y_test, boosting_pred))"
   ]
  }
 ],
 "metadata": {
  "kernelspec": {
   "display_name": "Python 3 (ipykernel)",
   "language": "python",
   "name": "python3"
  },
  "language_info": {
   "codemirror_mode": {
    "name": "ipython",
    "version": 3
   },
   "file_extension": ".py",
   "mimetype": "text/x-python",
   "name": "python",
   "nbconvert_exporter": "python",
   "pygments_lexer": "ipython3",
   "version": "3.12.0"
  }
 },
 "nbformat": 4,
 "nbformat_minor": 5
}
