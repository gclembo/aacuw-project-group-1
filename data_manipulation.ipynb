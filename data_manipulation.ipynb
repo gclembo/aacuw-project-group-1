{
 "cells": [
  {
   "cell_type": "markdown",
   "metadata": {},
   "source": [
    "## Data Manipulation\n",
    "### Imports "
   ]
  },
  {
   "cell_type": "code",
   "execution_count": 144,
   "metadata": {
    "vscode": {
     "languageId": "plaintext"
    }
   },
   "outputs": [],
   "source": [
    "import numpy as np\n",
    "import pandas as pd\n",
    "\n",
    "date_cols = [2, 19, 20, 26]\n",
    "injuries = pd.read_csv('data/injuries.csv', parse_dates=date_cols)"
   ]
  },
  {
   "cell_type": "markdown",
   "metadata": {},
   "source": [
    "### Manipulation"
   ]
  },
  {
   "cell_type": "code",
   "execution_count": 145,
   "metadata": {},
   "outputs": [
    {
     "name": "stdout",
     "output_type": "stream",
     "text": [
      "<class 'pandas.core.frame.DataFrame'>\n",
      "RangeIndex: 6541 entries, 0 to 6540\n",
      "Data columns (total 29 columns):\n",
      " #   Column                      Non-Null Count  Dtype         \n",
      "---  ------                      --------------  -----         \n",
      " 0   PlayerName                  6541 non-null   object        \n",
      " 1   PlayerId                    6540 non-null   object        \n",
      " 2   PlayerDOB                   6540 non-null   datetime64[ns]\n",
      " 3   Height                      6540 non-null   float64       \n",
      " 4   Weight                      6540 non-null   float64       \n",
      " 5   Positions                   6540 non-null   object        \n",
      " 6   GroupPosition               6540 non-null   object        \n",
      " 7   DraftPick                   5865 non-null   float64       \n",
      " 8   IsActive                    6540 non-null   object        \n",
      " 9   FirstSeason                 6541 non-null   int64         \n",
      " 10  LastSeason                  6541 non-null   int64         \n",
      " 11  SeasonsPlayed               6541 non-null   int64         \n",
      " 12  TeamNameFull                6339 non-null   object        \n",
      " 13  TeamLocation                6339 non-null   object        \n",
      " 14  TeamName                    6541 non-null   object        \n",
      " 15  Season                      6541 non-null   object        \n",
      " 16  SeasonStartYear             6541 non-null   int64         \n",
      " 17  SeasonEndYear               6339 non-null   float64       \n",
      " 18  TeamMadePlayoffs            6339 non-null   object        \n",
      " 19  DateInjured                 6541 non-null   datetime64[ns]\n",
      " 20  DateReturned                6541 non-null   datetime64[ns]\n",
      " 21  GamesMissed                 6449 non-null   float64       \n",
      " 22  DaysInjured                 6541 non-null   int64         \n",
      " 23  DaysBetweenGames            6449 non-null   float64       \n",
      " 24  BodyPartInjured             5239 non-null   object        \n",
      " 25  InjuryDescription           6541 non-null   object        \n",
      " 26  LastTransactionDate         6538 non-null   datetime64[ns]\n",
      " 27  LastTransactionDescription  6538 non-null   object        \n",
      " 28  LastTransactionType         6538 non-null   object        \n",
      "dtypes: datetime64[ns](4), float64(6), int64(5), object(14)\n",
      "memory usage: 1.4+ MB\n"
     ]
    }
   ],
   "source": [
    "injuries_df = injuries.copy() \n",
    "injuries_df.info()\n"
   ]
  },
  {
   "cell_type": "markdown",
   "metadata": {},
   "source": [
    "## Adding Cols"
   ]
  },
  {
   "cell_type": "code",
   "execution_count": 146,
   "metadata": {},
   "outputs": [],
   "source": [
    "start = '-10-20' \n",
    "injuries_df['approx_first_day'] = pd.to_datetime((injuries_df['FirstSeason'].astype(str) + end_day), format='%Y-%m-%d')\n",
    "\n",
    "end_day = '-04-15'\n",
    "injuries_df['approx_last_day'] = pd.to_datetime((injuries_df['LastSeason'].astype(str) + end_day), format='%Y-%m-%d')\n",
    "\n",
    "remaining_days = injuries_df['approx_last_day'] - injuries_df['DateInjured']\n",
    "injuries_df['remaining_days'] = (remaining_days / pd.Timedelta(1, 'D')).astype(int)\n",
    "\n",
    "injuries_df['log_days_injured'] = np.log(injuries_df['DaysInjured'] )"
   ]
  },
  {
   "cell_type": "markdown",
   "metadata": {},
   "source": [
    "### Export"
   ]
  },
  {
   "cell_type": "code",
   "execution_count": 147,
   "metadata": {},
   "outputs": [],
   "source": [
    "injuries_df.to_csv('data/injuries_cleaned.csv', index=False)"
   ]
  }
 ],
 "metadata": {
  "kernelspec": {
   "display_name": "Python 3 (ipykernel)",
   "language": "python",
   "name": "python3"
  },
  "language_info": {
   "codemirror_mode": {
    "name": "ipython",
    "version": 3
   },
   "file_extension": ".py",
   "mimetype": "text/x-python",
   "name": "python",
   "nbconvert_exporter": "python",
   "pygments_lexer": "ipython3",
   "version": "3.12.0"
  }
 },
 "nbformat": 4,
 "nbformat_minor": 4
}
